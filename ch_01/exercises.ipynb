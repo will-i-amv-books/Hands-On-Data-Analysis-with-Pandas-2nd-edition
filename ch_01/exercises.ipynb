{
 "cells": [
  {
   "cell_type": "markdown",
   "source": [
    "# Coding exercises\n",
    "Exercises 1-3 are thought exercises that don't require coding. If you need a Python crash-course/refresher, work through the [`python_101.ipynb`](./python_101.ipynb) notebook in chapter 1.\n",
    "\n",
    "## Exercise 4: Generate the data by running this cell\n",
    "This will give you a list of numbers to work with in the remaining exercises."
   ],
   "metadata": {}
  },
  {
   "cell_type": "code",
   "execution_count": 102,
   "source": [
    "import random\n",
    "import statistics\n",
    "\n",
    "random.seed(0)\n",
    "salaries = list(round(random.random()*1000000, -3) for _ in range(100))\n",
    "\n",
    "def check_equality(value1, value2):\n",
    "    return value1 == value2\n"
   ],
   "outputs": [],
   "metadata": {}
  },
  {
   "cell_type": "markdown",
   "source": [
    "## Exercise 5: Calculating statistics and verifying\n",
    "### mean"
   ],
   "metadata": {}
  },
  {
   "cell_type": "code",
   "execution_count": 103,
   "source": [
    "'''Using custom functions'''\n",
    "\n",
    "def calc_mean(sequence):\n",
    "    return sum(sequence) / len(sequence)\n",
    "\n",
    "customMean = calc_mean(salaries)\n",
    "\n",
    "'''Using the statistics library'''\n",
    "\n",
    "mean = statistics.mean(salaries)\n",
    "\n",
    "'''Testing equality between the last 2 values'''\n",
    "\n",
    "print(check_equality(customMean, mean))"
   ],
   "outputs": [
    {
     "output_type": "stream",
     "name": "stdout",
     "text": [
      "True\n"
     ]
    }
   ],
   "metadata": {}
  },
  {
   "cell_type": "markdown",
   "source": [
    "### median"
   ],
   "metadata": {}
  },
  {
   "cell_type": "code",
   "execution_count": 104,
   "source": [
    "'''Using custom functions'''\n",
    "from math import floor, ceil\n",
    "\n",
    "def is_even(x):\n",
    "    return x % 2 == 0\n",
    "\n",
    "def calc_median(sequence):\n",
    "    medianIndex = (len(sequence) + 1)/2 - 1\n",
    "    if is_even(len(sequence)):\n",
    "        return (sequence[floor(medianIndex)] + sequence[ceil(medianIndex)])/2\n",
    "    return sequence[floor(medianIndex)]\n",
    "\n",
    "customMedian = calc_median(sorted(salaries))\n",
    "\n",
    "'''Using the statistics library'''\n",
    "\n",
    "median = statistics.median(sorted(salaries))\n",
    "\n",
    "'''Testing equality between the last 2 values'''\n",
    "\n",
    "print(check_equality(customMedian, median))\n"
   ],
   "outputs": [
    {
     "output_type": "stream",
     "name": "stdout",
     "text": [
      "True\n"
     ]
    }
   ],
   "metadata": {}
  },
  {
   "cell_type": "markdown",
   "source": [
    "### mode"
   ],
   "metadata": {}
  },
  {
   "cell_type": "code",
   "execution_count": 105,
   "source": [
    "'''Using custom functions'''\n",
    "\n",
    "from collections import Counter\n",
    "\n",
    "def calc_mode(sequence):\n",
    "    return Counter(sequence).most_common(1)[0][0]\n",
    "\n",
    "customMode = calc_mode(salaries)\n",
    "\n",
    "'''Using the statistics library'''\n",
    "\n",
    "mode = statistics.mode(salaries)\n",
    "\n",
    "'''Testing equality between the last 2 values'''\n",
    "\n",
    "print(check_equality(customMode, mode))\n"
   ],
   "outputs": [
    {
     "output_type": "stream",
     "name": "stdout",
     "text": [
      "True\n"
     ]
    }
   ],
   "metadata": {}
  },
  {
   "cell_type": "markdown",
   "source": [
    "### sample variance\n",
    "Remember to use Bessel's correction."
   ],
   "metadata": {}
  },
  {
   "cell_type": "code",
   "execution_count": 106,
   "source": [
    "'''Using custom functions'''\n",
    "\n",
    "def calc_variance(sequence):\n",
    "    mean = calc_mean(sequence)\n",
    "    numerator = sum(\n",
    "        (item - mean)**2 \n",
    "        for item in sequence\n",
    "        )\n",
    "    denominator = len(sequence) - 1\n",
    "    return numerator / denominator\n",
    "\n",
    "customVariance = calc_variance(salaries)\n",
    "\n",
    "'''Using the statistics library'''\n",
    "\n",
    "variance = statistics.variance(salaries)\n",
    "\n",
    "'''Testing equality between the last 2 values'''\n",
    "\n",
    "print(check_equality(customVariance, variance))\n"
   ],
   "outputs": [
    {
     "output_type": "stream",
     "name": "stdout",
     "text": [
      "True\n"
     ]
    }
   ],
   "metadata": {}
  },
  {
   "cell_type": "markdown",
   "source": [
    "### sample standard deviation\n",
    "Remember to use Bessel's correction."
   ],
   "metadata": {}
  },
  {
   "cell_type": "code",
   "execution_count": 107,
   "source": [
    "'''Using custom functions'''\n",
    "\n",
    "import math\n",
    "\n",
    "def calc_stdev(sequence):\n",
    "    return math.sqrt(calc_variance(sequence))\n",
    "\n",
    "customStdev = calc_stdev(salaries)\n",
    "\n",
    "'''Using the statistics library'''\n",
    "\n",
    "stdev = statistics.stdev(salaries)\n",
    "\n",
    "'''Testing equality between the last 2 values'''\n",
    "\n",
    "print(check_equality(customStdev, stdev))"
   ],
   "outputs": [
    {
     "output_type": "stream",
     "name": "stdout",
     "text": [
      "True\n"
     ]
    }
   ],
   "metadata": {}
  },
  {
   "cell_type": "markdown",
   "source": [
    "## Exercise 6: Calculating more statistics\n",
    "### range"
   ],
   "metadata": {}
  },
  {
   "cell_type": "code",
   "execution_count": 108,
   "source": [
    "def calc_range(sequence):\n",
    "    return max(sequence) - min(sequence)\n",
    "\n",
    "range_ = calc_range(salaries)\n",
    "range_\n"
   ],
   "outputs": [
    {
     "output_type": "execute_result",
     "data": {
      "text/plain": [
       "995000.0"
      ]
     },
     "metadata": {},
     "execution_count": 108
    }
   ],
   "metadata": {}
  },
  {
   "cell_type": "markdown",
   "source": [
    "### coefficient of variation\n",
    "Make sure to use the sample standard deviation."
   ],
   "metadata": {}
  },
  {
   "cell_type": "code",
   "execution_count": 109,
   "source": [
    "def calc_coefficient_of_variation(mean, stdev):\n",
    "    return stdev / mean\n",
    "\n",
    "CV = calc_coefficient_of_variation(customMean, customStdev)\n",
    "CV"
   ],
   "outputs": [
    {
     "output_type": "execute_result",
     "data": {
      "text/plain": [
       "0.45386998894439035"
      ]
     },
     "metadata": {},
     "execution_count": 109
    }
   ],
   "metadata": {}
  },
  {
   "cell_type": "markdown",
   "source": [
    "### interquartile range"
   ],
   "metadata": {}
  },
  {
   "cell_type": "code",
   "execution_count": 110,
   "source": [
    "def calc_quantile(sequence, percentage):\n",
    "    index = (len(sequence) + 1)*percentage - 1\n",
    "    if is_even(len(sequence)):\n",
    "        return (sequence[floor(index)] + sequence[ceil(index)]) / 2\n",
    "    return sequence[floor(index)]\n",
    "\n",
    "def calc_iqr(sequence):\n",
    "    return calc_quantile(sequence, 0.75) - calc_quantile(sequence, 0.25)\n",
    "\n",
    "IQR = calc_iqr(sorted(salaries))\n",
    "IQR\n"
   ],
   "outputs": [
    {
     "output_type": "execute_result",
     "data": {
      "text/plain": [
       "417500.0"
      ]
     },
     "metadata": {},
     "execution_count": 110
    }
   ],
   "metadata": {}
  },
  {
   "cell_type": "markdown",
   "source": [
    "### quartile coefficent of dispersion"
   ],
   "metadata": {}
  },
  {
   "cell_type": "code",
   "execution_count": 111,
   "source": [
    "def calc_qcd(sequence):\n",
    "    num = calc_quantile(sequence, 0.75) - calc_quantile(sequence, 0.25)\n",
    "    den = calc_quantile(sequence, 0.75) + calc_quantile(sequence, 0.25)\n",
    "    return num / den\n",
    "\n",
    "QCD = calc_qcd(sorted(salaries))\n",
    "QCD"
   ],
   "outputs": [
    {
     "output_type": "execute_result",
     "data": {
      "text/plain": [
       "0.3417928776094965"
      ]
     },
     "metadata": {},
     "execution_count": 111
    }
   ],
   "metadata": {}
  },
  {
   "cell_type": "markdown",
   "source": [
    "## Exercise 7: Scaling data\n",
    "### min-max scaling"
   ],
   "metadata": {}
  },
  {
   "cell_type": "code",
   "execution_count": 112,
   "source": [
    "def min_max_scale(sequence):\n",
    "    return list(\n",
    "        (item  - min(sequence))/calc_range(sequence) \n",
    "        for item in sequence\n",
    "        )\n",
    "\n",
    "normalizedSalaries = min_max_scale(salaries)"
   ],
   "outputs": [],
   "metadata": {}
  },
  {
   "cell_type": "markdown",
   "source": [
    "### standardizing"
   ],
   "metadata": {}
  },
  {
   "cell_type": "code",
   "execution_count": 113,
   "source": [
    "def standarize(sequence):\n",
    "    mean = calc_mean(sequence)\n",
    "    stdev = calc_stdev(sequence)\n",
    "    return list(\n",
    "        (item  - mean)/stdev \n",
    "        for item in sequence\n",
    "        )\n",
    "\n",
    "standarizedSalaries = standarize(salaries)"
   ],
   "outputs": [],
   "metadata": {}
  },
  {
   "cell_type": "markdown",
   "source": [
    "## Exercise 8: Calculating covariance and correlation\n",
    "### covariance"
   ],
   "metadata": {}
  },
  {
   "cell_type": "code",
   "execution_count": 122,
   "source": [
    "def calc_covariance(sequence1, sequence2):\n",
    "    expectedValues = list(\n",
    "        (x - calc_mean(sequence1))*(y - calc_mean(sequence2))\n",
    "        for x, y in zip(sequence1, sequence2)\n",
    "    )\n",
    "    return calc_mean(expectedValues)\n",
    "\n",
    "COV = calc_covariance(normalizedSalaries, standarizedSalaries)\n",
    "COV"
   ],
   "outputs": [
    {
     "output_type": "execute_result",
     "data": {
      "text/plain": [
       "0.2644912991825042"
      ]
     },
     "metadata": {},
     "execution_count": 122
    }
   ],
   "metadata": {}
  },
  {
   "cell_type": "markdown",
   "source": [
    "### Pearson correlation coefficient ($\\rho$)"
   ],
   "metadata": {}
  },
  {
   "cell_type": "code",
   "execution_count": 121,
   "source": [
    "def calc_pearson_correlation(sequence1, sequence2):\n",
    "    num = calc_covariance(sequence1, sequence2)\n",
    "    den = calc_stdev(sequence1) * calc_stdev(sequence2)\n",
    "    return num / den\n",
    "\n",
    "RHO = calc_pearson_correlation(normalizedSalaries, standarizedSalaries)\n",
    "RHO  "
   ],
   "outputs": [
    {
     "output_type": "execute_result",
     "data": {
      "text/plain": [
       "0.9900000000000004"
      ]
     },
     "metadata": {},
     "execution_count": 121
    }
   ],
   "metadata": {}
  },
  {
   "cell_type": "markdown",
   "source": [
    "<hr>\n",
    "<div style=\"overflow: hidden; margin-bottom: 10px;\">\n",
    "    <div style=\"float: left;\">\n",
    "        <a href=\"./python_101.ipynb\">\n",
    "            <button>Python 101</button>\n",
    "        </a>\n",
    "    </div>\n",
    "    <div style=\"float: right;\">\n",
    "        <a href=\"../../solutions/ch_01/solutions.ipynb\">\n",
    "            <button>Solutions</button>\n",
    "        </a>\n",
    "        <a href=\"../ch_02/1-pandas_data_structures.ipynb\">\n",
    "            <button>Chapter 2 &#8594;</button>\n",
    "        </a>\n",
    "    </div>\n",
    "</div>\n",
    "<hr>"
   ],
   "metadata": {}
  }
 ],
 "metadata": {
  "kernelspec": {
   "name": "python3",
   "display_name": "Python 3.8.10 64-bit ('env': venv)"
  },
  "language_info": {
   "codemirror_mode": {
    "name": "ipython",
    "version": 3
   },
   "file_extension": ".py",
   "mimetype": "text/x-python",
   "name": "python",
   "nbconvert_exporter": "python",
   "pygments_lexer": "ipython3",
   "version": "3.8.10"
  },
  "interpreter": {
   "hash": "d835a635659c7576564d755912dbab882c144cb71a51cacacc38bcccc11b3465"
  }
 },
 "nbformat": 4,
 "nbformat_minor": 4
}