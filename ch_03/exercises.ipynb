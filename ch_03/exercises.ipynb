{
 "cells": [
  {
   "cell_type": "markdown",
   "source": [
    "# Setup"
   ],
   "metadata": {}
  },
  {
   "cell_type": "code",
   "execution_count": 7,
   "source": [
    "import pandas as pd"
   ],
   "outputs": [],
   "metadata": {}
  },
  {
   "cell_type": "markdown",
   "source": [
    "# Exercise 1\n",
    "\n",
    "**We want to look at data for the Facebook, Apple, Amazon, Netflix, and Google\n",
    "(FAANG) stocks, but we were given each as a separate CSV file (obtained using the\n",
    "stock_analysis package we will build in Chapter 7, Financial Analysis – Bitcoin\n",
    "and the Stock Market). Combine them into a single file and store the dataframe of\n",
    "the FAANG data as faang for the rest of the exercises:**\n",
    "\n",
    "* Read in the aapl.csv , amzn.csv , fb.csv , goog.csv , and nflx.csv files.\n",
    "* Add a column to each dataframe, called ticker , indicating the ticker symbol it for (Apple's is AAPL, for example);  this is how you look up a stock. In this case, the filenames happen to be the ticker symbols.\n",
    "* Append them together into a single dataframe.\n",
    "* Save the result in a CSV file called faang.csv."
   ],
   "metadata": {}
  },
  {
   "cell_type": "code",
   "execution_count": 8,
   "source": [
    "tickers = ['aapl','amzn', 'fb', 'goog', 'nflx']\n",
    "\n",
    "def create_df(filename):\n",
    "    return pd.read_csv(f'exercises/{filename}.csv')\n",
    "\n",
    "def add_column_to_df(df, columnName):\n",
    "    return df.assign(columnName=columnName.upper())\n",
    "\n",
    "def append_dfs(df1, df2):\n",
    "    return df1.append(df2)\n",
    "\n",
    "def create_dfs_from_filenames(filenames):\n",
    "    df = pd.DataFrame()\n",
    "    for name in filenames:\n",
    "        newDf = create_df(name)\n",
    "        newDf = add_column_to_df(newDf, name)\n",
    "        df = append_dfs(df, newDf)\n",
    "    return df\n",
    "\n",
    "dfFAANG = create_dfs_from_filenames(tickers)\n",
    "dfFAANG.to_csv('exercises/faang.csv')\n",
    "dfFAANG.head()"
   ],
   "outputs": [
    {
     "output_type": "execute_result",
     "data": {
      "text/plain": [
       "(1255, 7)"
      ]
     },
     "metadata": {},
     "execution_count": 8
    }
   ],
   "metadata": {}
  },
  {
   "cell_type": "markdown",
   "source": [
    "<hr>\n",
    "<div style=\"overflow: hidden; margin-bottom: 10px;\">\n",
    "    <div style=\"float: left;\">\n",
    "        <a href=\"./python_101.ipynb\">\n",
    "            <button>Python 101</button>\n",
    "        </a>\n",
    "    </div>\n",
    "    <div style=\"float: right;\">\n",
    "        <a href=\"../../solutions/ch_01/solutions.ipynb\">\n",
    "            <button>Solutions</button>\n",
    "        </a>\n",
    "        <a href=\"../ch_02/1-pandas_data_structures.ipynb\">\n",
    "            <button>Chapter 2 &#8594;</button>\n",
    "        </a>\n",
    "    </div>\n",
    "</div>\n",
    "<hr>"
   ],
   "metadata": {}
  }
 ],
 "metadata": {
  "kernelspec": {
   "name": "python3",
   "display_name": "Python 3.8.10 64-bit ('env': venv)"
  },
  "language_info": {
   "codemirror_mode": {
    "name": "ipython",
    "version": 3
   },
   "file_extension": ".py",
   "mimetype": "text/x-python",
   "name": "python",
   "nbconvert_exporter": "python",
   "pygments_lexer": "ipython3",
   "version": "3.8.10"
  },
  "interpreter": {
   "hash": "5e4f50eee1bd8c051d8159abc56ebbdb16ed7d834d93823d0850b2afd16c59c4"
  }
 },
 "nbformat": 4,
 "nbformat_minor": 4
}