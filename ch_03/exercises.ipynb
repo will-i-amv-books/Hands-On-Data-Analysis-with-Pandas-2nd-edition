{
 "cells": [
  {
   "cell_type": "markdown",
   "source": [
    "# Setup"
   ],
   "metadata": {}
  },
  {
   "cell_type": "code",
   "execution_count": 1,
   "source": [
    "import pandas as pd"
   ],
   "outputs": [],
   "metadata": {}
  },
  {
   "cell_type": "markdown",
   "source": [
    "# Exercise 1\n",
    "\n",
    "**We want to look at data for the Facebook, Apple, Amazon, Netflix, and Google\n",
    "(FAANG) stocks, but we were given each as a separate CSV file (obtained using the\n",
    "stock_analysis package we will build in Chapter 7, Financial Analysis – Bitcoin\n",
    "and the Stock Market). Combine them into a single file and store the dataframe of\n",
    "the FAANG data as faang for the rest of the exercises:**\n",
    "\n",
    "* Read in the aapl.csv , amzn.csv , fb.csv , goog.csv , and nflx.csv files.\n",
    "* Add a column to each dataframe, called ticker , indicating the ticker symbol it for (Apple's is AAPL, for example);  this is how you look up a stock. In this case, the filenames happen to be the ticker symbols.\n",
    "* Append them together into a single dataframe.\n",
    "* Save the result in a CSV file called faang.csv."
   ],
   "metadata": {}
  },
  {
   "cell_type": "code",
   "execution_count": 2,
   "source": [
    "tickers = ['aapl','amzn', 'fb', 'goog', 'nflx']\n",
    "\n",
    "def create_df(ticker):\n",
    "    return pd.read_csv(f'exercises/{ticker}.csv')\n",
    "\n",
    "def add_column_to_df(df, ticker):\n",
    "    df.insert(0, 'ticker', ticker.upper())\n",
    "\n",
    "def append_dfs(df1, df2):\n",
    "    return df1.append(df2)\n",
    "\n",
    "def create_dfs_from_filenames(filenames):\n",
    "    df = pd.DataFrame()\n",
    "    for name in filenames:\n",
    "        newDf = create_df(name)\n",
    "        add_column_to_df(newDf, name)\n",
    "        df = append_dfs(df, newDf)\n",
    "    return df\n",
    "\n",
    "dfFAANG = create_dfs_from_filenames(tickers)\n",
    "dfFAANG.to_csv('exercises/faang.csv')\n",
    "dfFAANG.head()\n"
   ],
   "outputs": [
    {
     "output_type": "execute_result",
     "data": {
      "text/plain": [
       "  ticker        date       high        low       open      close       volume\n",
       "0   AAPL  2018-01-02  43.075001  42.314999  42.540001  43.064999  102223600.0\n",
       "1   AAPL  2018-01-03  43.637501  42.990002  43.132500  43.057499  118071600.0\n",
       "2   AAPL  2018-01-04  43.367500  43.020000  43.134998  43.257500   89738400.0\n",
       "3   AAPL  2018-01-05  43.842499  43.262501  43.360001  43.750000   94640000.0\n",
       "4   AAPL  2018-01-08  43.902500  43.482498  43.587502  43.587502   82271200.0"
      ],
      "text/html": [
       "<div>\n",
       "<style scoped>\n",
       "    .dataframe tbody tr th:only-of-type {\n",
       "        vertical-align: middle;\n",
       "    }\n",
       "\n",
       "    .dataframe tbody tr th {\n",
       "        vertical-align: top;\n",
       "    }\n",
       "\n",
       "    .dataframe thead th {\n",
       "        text-align: right;\n",
       "    }\n",
       "</style>\n",
       "<table border=\"1\" class=\"dataframe\">\n",
       "  <thead>\n",
       "    <tr style=\"text-align: right;\">\n",
       "      <th></th>\n",
       "      <th>ticker</th>\n",
       "      <th>date</th>\n",
       "      <th>high</th>\n",
       "      <th>low</th>\n",
       "      <th>open</th>\n",
       "      <th>close</th>\n",
       "      <th>volume</th>\n",
       "    </tr>\n",
       "  </thead>\n",
       "  <tbody>\n",
       "    <tr>\n",
       "      <th>0</th>\n",
       "      <td>AAPL</td>\n",
       "      <td>2018-01-02</td>\n",
       "      <td>43.075001</td>\n",
       "      <td>42.314999</td>\n",
       "      <td>42.540001</td>\n",
       "      <td>43.064999</td>\n",
       "      <td>102223600.0</td>\n",
       "    </tr>\n",
       "    <tr>\n",
       "      <th>1</th>\n",
       "      <td>AAPL</td>\n",
       "      <td>2018-01-03</td>\n",
       "      <td>43.637501</td>\n",
       "      <td>42.990002</td>\n",
       "      <td>43.132500</td>\n",
       "      <td>43.057499</td>\n",
       "      <td>118071600.0</td>\n",
       "    </tr>\n",
       "    <tr>\n",
       "      <th>2</th>\n",
       "      <td>AAPL</td>\n",
       "      <td>2018-01-04</td>\n",
       "      <td>43.367500</td>\n",
       "      <td>43.020000</td>\n",
       "      <td>43.134998</td>\n",
       "      <td>43.257500</td>\n",
       "      <td>89738400.0</td>\n",
       "    </tr>\n",
       "    <tr>\n",
       "      <th>3</th>\n",
       "      <td>AAPL</td>\n",
       "      <td>2018-01-05</td>\n",
       "      <td>43.842499</td>\n",
       "      <td>43.262501</td>\n",
       "      <td>43.360001</td>\n",
       "      <td>43.750000</td>\n",
       "      <td>94640000.0</td>\n",
       "    </tr>\n",
       "    <tr>\n",
       "      <th>4</th>\n",
       "      <td>AAPL</td>\n",
       "      <td>2018-01-08</td>\n",
       "      <td>43.902500</td>\n",
       "      <td>43.482498</td>\n",
       "      <td>43.587502</td>\n",
       "      <td>43.587502</td>\n",
       "      <td>82271200.0</td>\n",
       "    </tr>\n",
       "  </tbody>\n",
       "</table>\n",
       "</div>"
      ]
     },
     "metadata": {},
     "execution_count": 2
    }
   ],
   "metadata": {}
  },
  {
   "cell_type": "code",
   "execution_count": null,
   "source": [],
   "outputs": [],
   "metadata": {}
  },
  {
   "cell_type": "markdown",
   "source": [
    "<hr>\n",
    "<div style=\"overflow: hidden; margin-bottom: 10px;\">\n",
    "    <div style=\"float: left;\">\n",
    "        <a href=\"./python_101.ipynb\">\n",
    "            <button>Python 101</button>\n",
    "        </a>\n",
    "    </div>\n",
    "    <div style=\"float: right;\">\n",
    "        <a href=\"../../solutions/ch_01/solutions.ipynb\">\n",
    "            <button>Solutions</button>\n",
    "        </a>\n",
    "        <a href=\"../ch_02/1-pandas_data_structures.ipynb\">\n",
    "            <button>Chapter 2 &#8594;</button>\n",
    "        </a>\n",
    "    </div>\n",
    "</div>\n",
    "<hr>"
   ],
   "metadata": {}
  }
 ],
 "metadata": {
  "kernelspec": {
   "name": "python3",
   "display_name": "Python 3.8.10 64-bit ('env': venv)"
  },
  "language_info": {
   "codemirror_mode": {
    "name": "ipython",
    "version": 3
   },
   "file_extension": ".py",
   "mimetype": "text/x-python",
   "name": "python",
   "nbconvert_exporter": "python",
   "pygments_lexer": "ipython3",
   "version": "3.8.10"
  },
  "interpreter": {
   "hash": "5e4f50eee1bd8c051d8159abc56ebbdb16ed7d834d93823d0850b2afd16c59c4"
  }
 },
 "nbformat": 4,
 "nbformat_minor": 4
}