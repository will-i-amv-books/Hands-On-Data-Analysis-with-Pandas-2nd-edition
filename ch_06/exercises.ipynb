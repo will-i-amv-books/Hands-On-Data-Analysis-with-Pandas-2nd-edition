{
 "cells": [
  {
   "cell_type": "markdown",
   "source": [
    "# Setup"
   ],
   "metadata": {}
  },
  {
   "cell_type": "code",
   "execution_count": 1,
   "source": [
    "%matplotlib inline\n",
    "import matplotlib.pyplot as plt\n",
    "import numpy as np\n",
    "import pandas as pd\n",
    "\n",
    "fb = pd.read_csv(\n",
    "    'data/fb_stock_prices_2018.csv', \n",
    "    index_col='date', \n",
    "    parse_dates=True\n",
    ")\n",
    "\n",
    "quakes = pd.read_csv('data/earthquakes.csv')\n",
    "\n",
    "covid = pd\\\n",
    "    .read_csv('data/covid19_cases.csv')\\\n",
    "    .assign(\n",
    "        date=lambda x: pd.to_datetime(x.dateRep, format='%d/%m/%Y')\n",
    "    )\\\n",
    "    .set_index('date')\\\n",
    "    .replace('United_States_of_America', 'USA')\\\n",
    "    .sort_index()['2020-01-18':'2020-09-18']"
   ],
   "outputs": [],
   "metadata": {}
  },
  {
   "cell_type": "markdown",
   "source": [
    "# Exercise 1\n",
    "\n",
    "Using seaborn , create a heatmap to visualize the correlation coefficients between\n",
    "earthquake magnitude and whether there was a tsunami for earthquakes measured\n",
    "with the mb magnitude type."
   ],
   "metadata": {}
  },
  {
   "cell_type": "markdown",
   "source": [
    "# Exercise 2\n",
    "\n",
    "Create a box plot of Facebook volume traded and closing prices, and draw reference\n",
    "lines for the bounds of a Tukey fence with a multiplier of 1.5. The bounds will be\n",
    "at Q 1 − 1.5 × IQR and Q 3 + 1.5 × IQR. Be sure to use the quantile() method on\n",
    "the data to make this easier. (Pick whichever orientation you prefer for the plot, but\n",
    "make sure to use subplots.)"
   ],
   "metadata": {}
  },
  {
   "cell_type": "markdown",
   "source": [
    "# Exercise 3\n",
    "\n",
    "Plot the evolution of cumulative COVID-19 cases worldwide, and add a dashed\n",
    "vertical line on the date that it surpassed 1 million. Be sure to format the tick labels\n",
    "on the y-axis accordingly"
   ],
   "metadata": {}
  },
  {
   "cell_type": "markdown",
   "source": [
    "# Exercise 4\n",
    "\n",
    "Use axvspan() to shade a rectangle from '2018-07-25' to '2018-07-31' ,\n",
    "which marks the large decline in Facebook price on a line plot of the closing price."
   ],
   "metadata": {}
  },
  {
   "cell_type": "markdown",
   "source": [
    "# Exercise 5\n",
    "\n"
   ],
   "metadata": {}
  },
  {
   "cell_type": "markdown",
   "source": [
    "**Using the Facebook stock price data, annotate the following three events on a line\n",
    "plot of the closing price**\n",
    "\n",
    "a) Disappointing user growth announced after close on July 25, 2018\n",
    "\n",
    "b) Cambridge Analytica story breaks on March 19, 2018 (when it affected the market)\n",
    "\n",
    "c) FTC launches investigation on March 20, 2018"
   ],
   "metadata": {}
  },
  {
   "cell_type": "markdown",
   "source": [
    "# Exercise 6\n",
    "\n"
   ],
   "metadata": {}
  },
  {
   "cell_type": "markdown",
   "source": [
    "Modify the reg_resid_plots() function to use a matplotlib colormap\n",
    "instead of cycling between two colors. Remember, for this use case, we should\n",
    "pick a qualitative colormap or make our own."
   ],
   "metadata": {}
  },
  {
   "cell_type": "markdown",
   "source": [
    "<hr>\n",
    "<div style=\"overflow: hidden; margin-bottom: 10px;\">\n",
    "    <div style=\"float: left;\">\n",
    "        <a href=\"./python_101.ipynb\">\n",
    "            <button>Python 101</button>\n",
    "        </a>\n",
    "    </div>\n",
    "    <div style=\"float: right;\">\n",
    "        <a href=\"../../solutions/ch_01/solutions.ipynb\">\n",
    "            <button>Solutions</button>\n",
    "        </a>\n",
    "        <a href=\"../ch_02/1-pandas_data_structures.ipynb\">\n",
    "            <button>Chapter 2 &#8594;</button>\n",
    "        </a>\n",
    "    </div>\n",
    "</div>\n",
    "<hr>"
   ],
   "metadata": {}
  }
 ],
 "metadata": {
  "kernelspec": {
   "name": "python3",
   "display_name": "Python 3.8.10 64-bit ('env': venv)"
  },
  "language_info": {
   "codemirror_mode": {
    "name": "ipython",
    "version": 3
   },
   "file_extension": ".py",
   "mimetype": "text/x-python",
   "name": "python",
   "nbconvert_exporter": "python",
   "pygments_lexer": "ipython3",
   "version": "3.8.10"
  },
  "interpreter": {
   "hash": "5e4f50eee1bd8c051d8159abc56ebbdb16ed7d834d93823d0850b2afd16c59c4"
  }
 },
 "nbformat": 4,
 "nbformat_minor": 4
}